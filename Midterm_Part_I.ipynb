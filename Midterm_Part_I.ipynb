{
 "cells": [
  {
   "cell_type": "markdown",
   "metadata": {},
   "source": [
    "<h1 align = \"center\"> Home Value Predictions in Greater Boston Area </h1> "
   ]
  },
  {
   "cell_type": "markdown",
   "metadata": {},
   "source": [
    "<img src=\"static/img/mls_listing.png\" width=800 align=\"center\">"
   ]
  },
  {
   "cell_type": "markdown",
   "metadata": {},
   "source": [
    "<h6 align = \"center\"> MLS Listing Preview </h6> "
   ]
  },
  {
   "cell_type": "markdown",
   "metadata": {},
   "source": [
    "## Introduction"
   ]
  },
  {
   "cell_type": "markdown",
   "metadata": {},
   "source": [
    "A home is often the largest and most expensive purchase a person makes in his or her lifetime. Ensuring homeowners have a trusted way to monitor this asset is incredibly important. While many individual homebuyers are less sensitive to price forecasts, small errors in price prediction can have systemic negative effects in the economy as a whole. Accurate prediction makes it easier to understand which features would influence the final property price."
   ]
  },
  {
   "cell_type": "markdown",
   "metadata": {},
   "source": [
    "## Problem Statement"
   ]
  },
  {
   "cell_type": "markdown",
   "metadata": {},
   "source": [
    "Real estate prices are very much dependent on factors that are not easy to control. Analyzing broader market conditions and specific property determinants in order to establish how property values may change over the course of time are utterly important. Massive data can be obtained about the current market situation, which demands using powerful machine learning algorithms in order to predict with high precision and in a reasonable time frame."
   ]
  },
  {
   "cell_type": "markdown",
   "metadata": {},
   "source": [
    "*Goal: Explore different models using internal data source (MLS data). Choose the best model as the final home valuation algorithms to predict prices on a new set of listings. Use price predictions and other listing features to build the app for the \"Midterm_Part_II\".*"
   ]
  },
  {
   "cell_type": "markdown",
   "metadata": {},
   "source": [
    "### Load libraries"
   ]
  },
  {
   "cell_type": "code",
   "execution_count": 1,
   "metadata": {},
   "outputs": [],
   "source": [
    "import pandas as pd\n",
    "import numpy as np"
   ]
  },
  {
   "cell_type": "markdown",
   "metadata": {},
   "source": [
    "### Load Data"
   ]
  },
  {
   "cell_type": "markdown",
   "metadata": {},
   "source": [
    "Before we start with modelling, we have to take a closer look at our data features:"
   ]
  },
  {
   "cell_type": "code",
   "execution_count": 2,
   "metadata": {},
   "outputs": [
    {
     "data": {
      "text/plain": [
       "array(['Unnamed: 0', 'DisplayX', 'DisplayY', 'ADDRESS', 'CITY', 'STATE',\n",
       "       'ZIP', 'AGE', 'AGENTNAME', 'AREA', 'BATHS', 'BEDS', 'COOLING',\n",
       "       'DOM', 'DTO', 'ELEMENTARYSCHOOL', 'EXPIREDDATE', 'GARAGE',\n",
       "       'HEATING', 'HIGHSCHOOL', 'HOUSENUM1', 'HOUSENUM2',\n",
       "       'JUNIORHIGHSCHOOL', 'LEVEL', 'LISTDATE', 'LISTPRICE', 'LOTSIZE',\n",
       "       'MLSNUM', 'MONTH_ORIG', 'OFFICENAME', 'OFFICEPHONE',\n",
       "       'OTHERFEATURES', 'PHOTOURL', 'PROPTYPE', 'REMARKS',\n",
       "       'SHOWINGINSTRUCTIONS', 'SOLDDATE', 'SOLDPRICE', 'SQFT', 'STATUS',\n",
       "       'STREETNAME', 'STYLE', 'TYPE', 'YEAR_ORIG', 'zoMLSNUM',\n",
       "       'META_STATUS', 'MOS', 'Percent_diff', 'PPSF'], dtype=object)"
      ]
     },
     "execution_count": 2,
     "metadata": {},
     "output_type": "execute_result"
    }
   ],
   "source": [
    "# Read dataset columns\n",
    "all_columns = pd.read_csv('static/data/sold_geocoded.csv',low_memory=False,dtype='unicode').columns.values\n",
    "all_columns"
   ]
  },
  {
   "cell_type": "markdown",
   "metadata": {},
   "source": [
    "Clearly, there are too many features in the dataset. We don't need all of them for this task. Let us choose a good set of predictors. "
   ]
  },
  {
   "cell_type": "code",
   "execution_count": 3,
   "metadata": {},
   "outputs": [],
   "source": [
    "use_cols = ['MLSNUM','DisplayX','DisplayY','ZIP','AGE','BATHS','BEDS','GARAGE','LISTDATE',\n",
    "            'LISTPRICE','LOTSIZE','PROPTYPE','SOLDPRICE','SQFT', 'PPSF', 'PHOTOURL', 'REMARKS']"
   ]
  },
  {
   "cell_type": "markdown",
   "metadata": {},
   "source": [
    "Data description:\n",
    "\n",
    "    1. MLSNUM - listing number\n",
    "    2. DisplayX - latitude\n",
    "    3. DisplayY - longitude\n",
    "    4. ZIP - ZIP code\n",
    "    5. AGE - age of the building\n",
    "    6. BATHS - number of bathrooms \n",
    "    7. BEDS - number of bedrooms \n",
    "    8. GARAGE - number of parking spots in the building\n",
    "    9. LISTDATE - listed date of sale\n",
    "    10. LISTPRICE - asking price\n",
    "    11. LOTSIZE - building lotsize\n",
    "    12. PROPTYPE - building type (CC-condo; MF-multifamily, SF-single family)\n",
    "    13. SOLDPRICE - condo final price\n",
    "    14. SQFT - total condo square feet\n",
    "    15. PPSF - price per square foot\n",
    "    16. PHOTOURL - single condo picture URL\n",
    "    17. REMARKS - descriptions"
   ]
  },
  {
   "cell_type": "code",
   "execution_count": 4,
   "metadata": {
    "scrolled": true
   },
   "outputs": [
    {
     "data": {
      "text/html": [
       "<div>\n",
       "<style scoped>\n",
       "    .dataframe tbody tr th:only-of-type {\n",
       "        vertical-align: middle;\n",
       "    }\n",
       "\n",
       "    .dataframe tbody tr th {\n",
       "        vertical-align: top;\n",
       "    }\n",
       "\n",
       "    .dataframe thead th {\n",
       "        text-align: right;\n",
       "    }\n",
       "</style>\n",
       "<table border=\"1\" class=\"dataframe\">\n",
       "  <thead>\n",
       "    <tr style=\"text-align: right;\">\n",
       "      <th></th>\n",
       "      <th>DisplayX</th>\n",
       "      <th>DisplayY</th>\n",
       "      <th>ZIP</th>\n",
       "      <th>AGE</th>\n",
       "      <th>BATHS</th>\n",
       "      <th>BEDS</th>\n",
       "      <th>GARAGE</th>\n",
       "      <th>LISTDATE</th>\n",
       "      <th>LISTPRICE</th>\n",
       "      <th>LOTSIZE</th>\n",
       "      <th>MLSNUM</th>\n",
       "      <th>PHOTOURL</th>\n",
       "      <th>PROPTYPE</th>\n",
       "      <th>REMARKS</th>\n",
       "      <th>SOLDPRICE</th>\n",
       "      <th>SQFT</th>\n",
       "      <th>PPSF</th>\n",
       "    </tr>\n",
       "  </thead>\n",
       "  <tbody>\n",
       "    <tr>\n",
       "      <th>0</th>\n",
       "      <td>-71.003531</td>\n",
       "      <td>42.834870</td>\n",
       "      <td>1860</td>\n",
       "      <td>12.0</td>\n",
       "      <td>1.0</td>\n",
       "      <td>2</td>\n",
       "      <td>2.0</td>\n",
       "      <td>3/26/2013 0:00</td>\n",
       "      <td>169900.0</td>\n",
       "      <td>NaN</td>\n",
       "      <td>71498924.0</td>\n",
       "      <td>http://media.mlspin.com/photo.aspx?mls=71498924</td>\n",
       "      <td>CC</td>\n",
       "      <td>Grange Hall Condominiums in downtown Merrimac....</td>\n",
       "      <td>177500.0</td>\n",
       "      <td>1283</td>\n",
       "      <td>138.347623</td>\n",
       "    </tr>\n",
       "    <tr>\n",
       "      <th>1</th>\n",
       "      <td>-71.893472</td>\n",
       "      <td>42.199845</td>\n",
       "      <td>1524</td>\n",
       "      <td>3.0</td>\n",
       "      <td>2.0</td>\n",
       "      <td>2</td>\n",
       "      <td>2.0</td>\n",
       "      <td>3/30/2013 0:00</td>\n",
       "      <td>279900.0</td>\n",
       "      <td>1306800.0</td>\n",
       "      <td>71500500.0</td>\n",
       "      <td>http://media.mlspin.com/photo.aspx?mls=71500500</td>\n",
       "      <td>CC</td>\n",
       "      <td>2”X6” WALL CONSTRUCTION-ENERGY EFFICIENT HOMES...</td>\n",
       "      <td>295850.0</td>\n",
       "      <td>1368</td>\n",
       "      <td>216.264620</td>\n",
       "    </tr>\n",
       "    <tr>\n",
       "      <th>2</th>\n",
       "      <td>-71.437349</td>\n",
       "      <td>42.653706</td>\n",
       "      <td>1879</td>\n",
       "      <td>5.0</td>\n",
       "      <td>2.5</td>\n",
       "      <td>2</td>\n",
       "      <td>2.0</td>\n",
       "      <td>10/10/2013 0:00</td>\n",
       "      <td>449900.0</td>\n",
       "      <td>5000.0</td>\n",
       "      <td>71595485.0</td>\n",
       "      <td>http://media.mlspin.com/photo.aspx?mls=71595485</td>\n",
       "      <td>CC</td>\n",
       "      <td>This 1.850 sq.ft. To be Built Pine Valley II s...</td>\n",
       "      <td>470519.0</td>\n",
       "      <td>1850</td>\n",
       "      <td>254.334595</td>\n",
       "    </tr>\n",
       "    <tr>\n",
       "      <th>3</th>\n",
       "      <td>-70.888071</td>\n",
       "      <td>42.507990</td>\n",
       "      <td>1970</td>\n",
       "      <td>117.0</td>\n",
       "      <td>2.0</td>\n",
       "      <td>2</td>\n",
       "      <td>1.0</td>\n",
       "      <td>10/21/2013 0:00</td>\n",
       "      <td>389500.0</td>\n",
       "      <td>8400.0</td>\n",
       "      <td>71599223.0</td>\n",
       "      <td>http://media.mlspin.com/photo.aspx?mls=71599223</td>\n",
       "      <td>CC</td>\n",
       "      <td>Salem - Water view Condo in renovated quality ...</td>\n",
       "      <td>383500.0</td>\n",
       "      <td>1502</td>\n",
       "      <td>255.326232</td>\n",
       "    </tr>\n",
       "    <tr>\n",
       "      <th>4</th>\n",
       "      <td>-70.904487</td>\n",
       "      <td>42.518712</td>\n",
       "      <td>1970</td>\n",
       "      <td>38.0</td>\n",
       "      <td>1.0</td>\n",
       "      <td>2</td>\n",
       "      <td>0.0</td>\n",
       "      <td>4/15/2014 0:00</td>\n",
       "      <td>237000.0</td>\n",
       "      <td>NaN</td>\n",
       "      <td>71661544.0</td>\n",
       "      <td>http://media.mlspin.com/photo.aspx?mls=71661544</td>\n",
       "      <td>CC</td>\n",
       "      <td>Welcome to this two bedroom townhouse located ...</td>\n",
       "      <td>232000.0</td>\n",
       "      <td>1469</td>\n",
       "      <td>157.930565</td>\n",
       "    </tr>\n",
       "  </tbody>\n",
       "</table>\n",
       "</div>"
      ],
      "text/plain": [
       "    DisplayX   DisplayY   ZIP    AGE  BATHS  BEDS  GARAGE         LISTDATE  \\\n",
       "0 -71.003531  42.834870  1860   12.0    1.0     2     2.0   3/26/2013 0:00   \n",
       "1 -71.893472  42.199845  1524    3.0    2.0     2     2.0   3/30/2013 0:00   \n",
       "2 -71.437349  42.653706  1879    5.0    2.5     2     2.0  10/10/2013 0:00   \n",
       "3 -70.888071  42.507990  1970  117.0    2.0     2     1.0  10/21/2013 0:00   \n",
       "4 -70.904487  42.518712  1970   38.0    1.0     2     0.0   4/15/2014 0:00   \n",
       "\n",
       "   LISTPRICE    LOTSIZE      MLSNUM  \\\n",
       "0   169900.0        NaN  71498924.0   \n",
       "1   279900.0  1306800.0  71500500.0   \n",
       "2   449900.0     5000.0  71595485.0   \n",
       "3   389500.0     8400.0  71599223.0   \n",
       "4   237000.0        NaN  71661544.0   \n",
       "\n",
       "                                          PHOTOURL PROPTYPE  \\\n",
       "0  http://media.mlspin.com/photo.aspx?mls=71498924       CC   \n",
       "1  http://media.mlspin.com/photo.aspx?mls=71500500       CC   \n",
       "2  http://media.mlspin.com/photo.aspx?mls=71595485       CC   \n",
       "3  http://media.mlspin.com/photo.aspx?mls=71599223       CC   \n",
       "4  http://media.mlspin.com/photo.aspx?mls=71661544       CC   \n",
       "\n",
       "                                             REMARKS  SOLDPRICE  SQFT  \\\n",
       "0  Grange Hall Condominiums in downtown Merrimac....   177500.0  1283   \n",
       "1  2”X6” WALL CONSTRUCTION-ENERGY EFFICIENT HOMES...   295850.0  1368   \n",
       "2  This 1.850 sq.ft. To be Built Pine Valley II s...   470519.0  1850   \n",
       "3  Salem - Water view Condo in renovated quality ...   383500.0  1502   \n",
       "4  Welcome to this two bedroom townhouse located ...   232000.0  1469   \n",
       "\n",
       "         PPSF  \n",
       "0  138.347623  \n",
       "1  216.264620  \n",
       "2  254.334595  \n",
       "3  255.326232  \n",
       "4  157.930565  "
      ]
     },
     "execution_count": 4,
     "metadata": {},
     "output_type": "execute_result"
    }
   ],
   "source": [
    "# Load data with selected set of features\n",
    "df_all = pd.read_csv('static/data/sold_geocoded.csv', usecols=use_cols)\n",
    "df_all.head()"
   ]
  },
  {
   "cell_type": "markdown",
   "metadata": {},
   "source": [
    "### Data Preprocessing"
   ]
  },
  {
   "cell_type": "markdown",
   "metadata": {},
   "source": [
    "This section includes preprocessing, technique necessary for the raw data transformation into an understandable format. MLS data may be often incomplete, inconsistent, and/or lacking in certain infomration, and is likely to contain many errors. Data preprocessing is a proven method of resolving such issues."
   ]
  },
  {
   "cell_type": "code",
   "execution_count": 5,
   "metadata": {},
   "outputs": [],
   "source": [
    "# Clean PPSF data\n",
    "# PPSF has many \"inf\" values that need to be removed\n",
    "# Take a look at the function below and \n",
    "# make sure there are no any \"nan\" or \"inf\" values left\n",
    "\n",
    "df_all['PPSF'] = df_all['PPSF'].round(2)\n",
    "\n",
    "# array to store indices\n",
    "indexes = []\n",
    "\n",
    "# colect all indices that contain \"inf\" value\n",
    "for p in enumerate(df_all['PPSF']):\n",
    "    if p[1] == np.inf:\n",
    "        indexes.append(p[0])\n",
    "        \n",
    "# drop all rows with \"inf\" values        \n",
    "df_all = df_all.drop(df_all.index[indexes])  "
   ]
  },
  {
   "cell_type": "code",
   "execution_count": 6,
   "metadata": {},
   "outputs": [
    {
     "data": {
      "text/plain": [
       "(158874, 17)"
      ]
     },
     "execution_count": 6,
     "metadata": {},
     "output_type": "execute_result"
    }
   ],
   "source": [
    "# Check the shape of the data - you should be able to see (158874, 17)\n",
    "df_all.shape\n"
   ]
  },
  {
   "cell_type": "markdown",
   "metadata": {},
   "source": [
    "YOUR TURN <br><br>\n",
    "**Question 1 (1 pt):** <br> *Create new column 'LISTMONTH', extracting the information from the 'LISTDATE' feature.*"
   ]
  },
  {
   "cell_type": "code",
   "execution_count": 7,
   "metadata": {},
   "outputs": [],
   "source": [
    "# YOUR CODE HERE\n",
    "list_month = []\n",
    "\n",
    "\n",
    "for index, p in df_all.iterrows():\n",
    "    list_month.append(p['LISTDATE'].split('/')[0])\n",
    "\n",
    "df_all['LISTDATE'] = df_all['LISTDATE'].astype('datetime64[ns]')\n",
    "df_all['LISTMONTH'] = list_month\n",
    "df_all['LISTMONTH'] = df_all['LISTMONTH'].astype('int64')"
   ]
  },
  {
   "cell_type": "code",
   "execution_count": 8,
   "metadata": {},
   "outputs": [
    {
     "data": {
      "text/plain": [
       "DisplayX            float64\n",
       "DisplayY            float64\n",
       "ZIP                   int64\n",
       "AGE                 float64\n",
       "BATHS               float64\n",
       "BEDS                  int64\n",
       "GARAGE              float64\n",
       "LISTDATE     datetime64[ns]\n",
       "LISTPRICE           float64\n",
       "LOTSIZE             float64\n",
       "MLSNUM              float64\n",
       "PHOTOURL             object\n",
       "PROPTYPE             object\n",
       "REMARKS              object\n",
       "SOLDPRICE           float64\n",
       "SQFT                  int64\n",
       "PPSF                float64\n",
       "LISTMONTH             int64\n",
       "dtype: object"
      ]
     },
     "execution_count": 8,
     "metadata": {},
     "output_type": "execute_result"
    }
   ],
   "source": [
    "# Check datatypes\n",
    "df_all.dtypes"
   ]
  },
  {
   "cell_type": "markdown",
   "metadata": {},
   "source": [
    "The above output should be exactly the same as this one:<br>\n",
    "<img src=\"static/img/dtypes.png\" align=\"left\">"
   ]
  },
  {
   "cell_type": "markdown",
   "metadata": {},
   "source": [
    "YOUR TURN <br> <br> **Question 2 (1 pt):** <br> *One-hot encode 'ZIP' feature, using pandas get_dummies() method.*"
   ]
  },
  {
   "cell_type": "code",
   "execution_count": 9,
   "metadata": {
    "scrolled": true
   },
   "outputs": [],
   "source": [
    "# YOUR CODE HERE\n",
    "df_all = pd.get_dummies(df_all,columns=['ZIP'])\n",
    "\n"
   ]
  },
  {
   "cell_type": "code",
   "execution_count": 10,
   "metadata": {},
   "outputs": [],
   "source": [
    "# The final cleaning step is to take care of missing values\n",
    "# Drop all \"nan\" rows/cols using .dropna() pandas method\n",
    "df_all.dropna(inplace=True)"
   ]
  },
  {
   "cell_type": "code",
   "execution_count": 11,
   "metadata": {
    "scrolled": true
   },
   "outputs": [
    {
     "data": {
      "text/plain": [
       "DisplayX     0\n",
       "DisplayY     0\n",
       "AGE          0\n",
       "BATHS        0\n",
       "BEDS         0\n",
       "            ..\n",
       "ZIP_20771    0\n",
       "ZIP_20779    0\n",
       "ZIP_92148    0\n",
       "ZIP_92664    0\n",
       "ZIP_92962    0\n",
       "Length: 725, dtype: int64"
      ]
     },
     "execution_count": 11,
     "metadata": {},
     "output_type": "execute_result"
    }
   ],
   "source": [
    "# Final check for \"nan\" values\n",
    "# Notice the use of .head(18) here!!!\n",
    "# We are preventing long outputs and\n",
    "# try to print only columns that corespond to \"use_cols\" features set\n",
    "# Important: Remove .head(18) to check all features\n",
    "\n",
    "df_all.isnull().sum()\n"
   ]
  },
  {
   "cell_type": "markdown",
   "metadata": {
    "collapsed": true
   },
   "source": [
    "YOUR TURN <br><br>\n",
    "**Question 3 (1 pt):** <br> *Extract condos data and create the new dataframe called \"condos\".* \n",
    "<br><br>Hint: PROPTYPE has 3 unique values: 'CC','MF', and 'CC', where 'CC' stands for **condos**."
   ]
  },
  {
   "cell_type": "code",
   "execution_count": 12,
   "metadata": {},
   "outputs": [
    {
     "data": {
      "text/html": [
       "<div>\n",
       "<style scoped>\n",
       "    .dataframe tbody tr th:only-of-type {\n",
       "        vertical-align: middle;\n",
       "    }\n",
       "\n",
       "    .dataframe tbody tr th {\n",
       "        vertical-align: top;\n",
       "    }\n",
       "\n",
       "    .dataframe thead th {\n",
       "        text-align: right;\n",
       "    }\n",
       "</style>\n",
       "<table border=\"1\" class=\"dataframe\">\n",
       "  <thead>\n",
       "    <tr style=\"text-align: right;\">\n",
       "      <th></th>\n",
       "      <th>DisplayX</th>\n",
       "      <th>DisplayY</th>\n",
       "      <th>AGE</th>\n",
       "      <th>BATHS</th>\n",
       "      <th>BEDS</th>\n",
       "      <th>GARAGE</th>\n",
       "      <th>LISTDATE</th>\n",
       "      <th>LISTPRICE</th>\n",
       "      <th>LOTSIZE</th>\n",
       "      <th>MLSNUM</th>\n",
       "      <th>...</th>\n",
       "      <th>ZIP_20184</th>\n",
       "      <th>ZIP_20302</th>\n",
       "      <th>ZIP_20382</th>\n",
       "      <th>ZIP_20452</th>\n",
       "      <th>ZIP_20743</th>\n",
       "      <th>ZIP_20771</th>\n",
       "      <th>ZIP_20779</th>\n",
       "      <th>ZIP_92148</th>\n",
       "      <th>ZIP_92664</th>\n",
       "      <th>ZIP_92962</th>\n",
       "    </tr>\n",
       "  </thead>\n",
       "  <tbody>\n",
       "    <tr>\n",
       "      <th>1</th>\n",
       "      <td>-71.893472</td>\n",
       "      <td>42.199845</td>\n",
       "      <td>3.0</td>\n",
       "      <td>2.0</td>\n",
       "      <td>2</td>\n",
       "      <td>2.0</td>\n",
       "      <td>2013-03-30</td>\n",
       "      <td>279900.0</td>\n",
       "      <td>1306800.0</td>\n",
       "      <td>71500500.0</td>\n",
       "      <td>...</td>\n",
       "      <td>0</td>\n",
       "      <td>0</td>\n",
       "      <td>0</td>\n",
       "      <td>0</td>\n",
       "      <td>0</td>\n",
       "      <td>0</td>\n",
       "      <td>0</td>\n",
       "      <td>0</td>\n",
       "      <td>0</td>\n",
       "      <td>0</td>\n",
       "    </tr>\n",
       "    <tr>\n",
       "      <th>2</th>\n",
       "      <td>-71.437349</td>\n",
       "      <td>42.653706</td>\n",
       "      <td>5.0</td>\n",
       "      <td>2.5</td>\n",
       "      <td>2</td>\n",
       "      <td>2.0</td>\n",
       "      <td>2013-10-10</td>\n",
       "      <td>449900.0</td>\n",
       "      <td>5000.0</td>\n",
       "      <td>71595485.0</td>\n",
       "      <td>...</td>\n",
       "      <td>0</td>\n",
       "      <td>0</td>\n",
       "      <td>0</td>\n",
       "      <td>0</td>\n",
       "      <td>0</td>\n",
       "      <td>0</td>\n",
       "      <td>0</td>\n",
       "      <td>0</td>\n",
       "      <td>0</td>\n",
       "      <td>0</td>\n",
       "    </tr>\n",
       "    <tr>\n",
       "      <th>3</th>\n",
       "      <td>-70.888071</td>\n",
       "      <td>42.507990</td>\n",
       "      <td>117.0</td>\n",
       "      <td>2.0</td>\n",
       "      <td>2</td>\n",
       "      <td>1.0</td>\n",
       "      <td>2013-10-21</td>\n",
       "      <td>389500.0</td>\n",
       "      <td>8400.0</td>\n",
       "      <td>71599223.0</td>\n",
       "      <td>...</td>\n",
       "      <td>0</td>\n",
       "      <td>0</td>\n",
       "      <td>0</td>\n",
       "      <td>0</td>\n",
       "      <td>0</td>\n",
       "      <td>0</td>\n",
       "      <td>0</td>\n",
       "      <td>0</td>\n",
       "      <td>0</td>\n",
       "      <td>0</td>\n",
       "    </tr>\n",
       "    <tr>\n",
       "      <th>10</th>\n",
       "      <td>-71.625610</td>\n",
       "      <td>42.061016</td>\n",
       "      <td>0.0</td>\n",
       "      <td>1.0</td>\n",
       "      <td>2</td>\n",
       "      <td>2.0</td>\n",
       "      <td>2014-09-10</td>\n",
       "      <td>219990.0</td>\n",
       "      <td>7000.0</td>\n",
       "      <td>71741165.0</td>\n",
       "      <td>...</td>\n",
       "      <td>0</td>\n",
       "      <td>0</td>\n",
       "      <td>0</td>\n",
       "      <td>0</td>\n",
       "      <td>0</td>\n",
       "      <td>0</td>\n",
       "      <td>0</td>\n",
       "      <td>0</td>\n",
       "      <td>0</td>\n",
       "      <td>0</td>\n",
       "    </tr>\n",
       "    <tr>\n",
       "      <th>14</th>\n",
       "      <td>-71.275461</td>\n",
       "      <td>42.486940</td>\n",
       "      <td>3.0</td>\n",
       "      <td>1.5</td>\n",
       "      <td>2</td>\n",
       "      <td>0.0</td>\n",
       "      <td>2014-10-03</td>\n",
       "      <td>399000.0</td>\n",
       "      <td>45011.0</td>\n",
       "      <td>71752429.0</td>\n",
       "      <td>...</td>\n",
       "      <td>0</td>\n",
       "      <td>0</td>\n",
       "      <td>0</td>\n",
       "      <td>0</td>\n",
       "      <td>0</td>\n",
       "      <td>0</td>\n",
       "      <td>0</td>\n",
       "      <td>0</td>\n",
       "      <td>0</td>\n",
       "      <td>0</td>\n",
       "    </tr>\n",
       "    <tr>\n",
       "      <th>...</th>\n",
       "      <td>...</td>\n",
       "      <td>...</td>\n",
       "      <td>...</td>\n",
       "      <td>...</td>\n",
       "      <td>...</td>\n",
       "      <td>...</td>\n",
       "      <td>...</td>\n",
       "      <td>...</td>\n",
       "      <td>...</td>\n",
       "      <td>...</td>\n",
       "      <td>...</td>\n",
       "      <td>...</td>\n",
       "      <td>...</td>\n",
       "      <td>...</td>\n",
       "      <td>...</td>\n",
       "      <td>...</td>\n",
       "      <td>...</td>\n",
       "      <td>...</td>\n",
       "      <td>...</td>\n",
       "      <td>...</td>\n",
       "      <td>...</td>\n",
       "    </tr>\n",
       "    <tr>\n",
       "      <th>154134</th>\n",
       "      <td>-70.905711</td>\n",
       "      <td>42.525080</td>\n",
       "      <td>113.0</td>\n",
       "      <td>1.0</td>\n",
       "      <td>2</td>\n",
       "      <td>0.0</td>\n",
       "      <td>2017-11-30</td>\n",
       "      <td>199900.0</td>\n",
       "      <td>5964.0</td>\n",
       "      <td>72260020.0</td>\n",
       "      <td>...</td>\n",
       "      <td>0</td>\n",
       "      <td>0</td>\n",
       "      <td>0</td>\n",
       "      <td>0</td>\n",
       "      <td>0</td>\n",
       "      <td>0</td>\n",
       "      <td>0</td>\n",
       "      <td>0</td>\n",
       "      <td>0</td>\n",
       "      <td>0</td>\n",
       "    </tr>\n",
       "    <tr>\n",
       "      <th>154135</th>\n",
       "      <td>-71.162691</td>\n",
       "      <td>42.346250</td>\n",
       "      <td>118.0</td>\n",
       "      <td>1.0</td>\n",
       "      <td>2</td>\n",
       "      <td>0.0</td>\n",
       "      <td>2017-12-01</td>\n",
       "      <td>499000.0</td>\n",
       "      <td>5500.0</td>\n",
       "      <td>72260387.0</td>\n",
       "      <td>...</td>\n",
       "      <td>0</td>\n",
       "      <td>0</td>\n",
       "      <td>0</td>\n",
       "      <td>0</td>\n",
       "      <td>0</td>\n",
       "      <td>0</td>\n",
       "      <td>0</td>\n",
       "      <td>0</td>\n",
       "      <td>0</td>\n",
       "      <td>0</td>\n",
       "    </tr>\n",
       "    <tr>\n",
       "      <th>154136</th>\n",
       "      <td>-71.300620</td>\n",
       "      <td>42.665132</td>\n",
       "      <td>33.0</td>\n",
       "      <td>1.5</td>\n",
       "      <td>2</td>\n",
       "      <td>1.0</td>\n",
       "      <td>2017-12-01</td>\n",
       "      <td>174900.0</td>\n",
       "      <td>0.0</td>\n",
       "      <td>72260416.0</td>\n",
       "      <td>...</td>\n",
       "      <td>0</td>\n",
       "      <td>0</td>\n",
       "      <td>0</td>\n",
       "      <td>0</td>\n",
       "      <td>0</td>\n",
       "      <td>0</td>\n",
       "      <td>0</td>\n",
       "      <td>0</td>\n",
       "      <td>0</td>\n",
       "      <td>0</td>\n",
       "    </tr>\n",
       "    <tr>\n",
       "      <th>154146</th>\n",
       "      <td>-71.732934</td>\n",
       "      <td>42.151581</td>\n",
       "      <td>1.0</td>\n",
       "      <td>2.5</td>\n",
       "      <td>2</td>\n",
       "      <td>2.0</td>\n",
       "      <td>2017-09-19</td>\n",
       "      <td>499900.0</td>\n",
       "      <td>0.0</td>\n",
       "      <td>72263694.0</td>\n",
       "      <td>...</td>\n",
       "      <td>0</td>\n",
       "      <td>0</td>\n",
       "      <td>0</td>\n",
       "      <td>0</td>\n",
       "      <td>0</td>\n",
       "      <td>0</td>\n",
       "      <td>0</td>\n",
       "      <td>0</td>\n",
       "      <td>0</td>\n",
       "      <td>0</td>\n",
       "    </tr>\n",
       "    <tr>\n",
       "      <th>154148</th>\n",
       "      <td>-71.733175</td>\n",
       "      <td>42.151202</td>\n",
       "      <td>1.0</td>\n",
       "      <td>2.5</td>\n",
       "      <td>2</td>\n",
       "      <td>2.0</td>\n",
       "      <td>2017-06-14</td>\n",
       "      <td>464900.0</td>\n",
       "      <td>0.0</td>\n",
       "      <td>72264452.0</td>\n",
       "      <td>...</td>\n",
       "      <td>0</td>\n",
       "      <td>0</td>\n",
       "      <td>0</td>\n",
       "      <td>0</td>\n",
       "      <td>0</td>\n",
       "      <td>0</td>\n",
       "      <td>0</td>\n",
       "      <td>0</td>\n",
       "      <td>0</td>\n",
       "      <td>0</td>\n",
       "    </tr>\n",
       "  </tbody>\n",
       "</table>\n",
       "<p>10027 rows × 725 columns</p>\n",
       "</div>"
      ],
      "text/plain": [
       "         DisplayX   DisplayY    AGE  BATHS  BEDS  GARAGE   LISTDATE  \\\n",
       "1      -71.893472  42.199845    3.0    2.0     2     2.0 2013-03-30   \n",
       "2      -71.437349  42.653706    5.0    2.5     2     2.0 2013-10-10   \n",
       "3      -70.888071  42.507990  117.0    2.0     2     1.0 2013-10-21   \n",
       "10     -71.625610  42.061016    0.0    1.0     2     2.0 2014-09-10   \n",
       "14     -71.275461  42.486940    3.0    1.5     2     0.0 2014-10-03   \n",
       "...           ...        ...    ...    ...   ...     ...        ...   \n",
       "154134 -70.905711  42.525080  113.0    1.0     2     0.0 2017-11-30   \n",
       "154135 -71.162691  42.346250  118.0    1.0     2     0.0 2017-12-01   \n",
       "154136 -71.300620  42.665132   33.0    1.5     2     1.0 2017-12-01   \n",
       "154146 -71.732934  42.151581    1.0    2.5     2     2.0 2017-09-19   \n",
       "154148 -71.733175  42.151202    1.0    2.5     2     2.0 2017-06-14   \n",
       "\n",
       "        LISTPRICE    LOTSIZE      MLSNUM  ... ZIP_20184 ZIP_20302 ZIP_20382  \\\n",
       "1        279900.0  1306800.0  71500500.0  ...         0         0         0   \n",
       "2        449900.0     5000.0  71595485.0  ...         0         0         0   \n",
       "3        389500.0     8400.0  71599223.0  ...         0         0         0   \n",
       "10       219990.0     7000.0  71741165.0  ...         0         0         0   \n",
       "14       399000.0    45011.0  71752429.0  ...         0         0         0   \n",
       "...           ...        ...         ...  ...       ...       ...       ...   \n",
       "154134   199900.0     5964.0  72260020.0  ...         0         0         0   \n",
       "154135   499000.0     5500.0  72260387.0  ...         0         0         0   \n",
       "154136   174900.0        0.0  72260416.0  ...         0         0         0   \n",
       "154146   499900.0        0.0  72263694.0  ...         0         0         0   \n",
       "154148   464900.0        0.0  72264452.0  ...         0         0         0   \n",
       "\n",
       "        ZIP_20452  ZIP_20743  ZIP_20771  ZIP_20779  ZIP_92148  ZIP_92664  \\\n",
       "1               0          0          0          0          0          0   \n",
       "2               0          0          0          0          0          0   \n",
       "3               0          0          0          0          0          0   \n",
       "10              0          0          0          0          0          0   \n",
       "14              0          0          0          0          0          0   \n",
       "...           ...        ...        ...        ...        ...        ...   \n",
       "154134          0          0          0          0          0          0   \n",
       "154135          0          0          0          0          0          0   \n",
       "154136          0          0          0          0          0          0   \n",
       "154146          0          0          0          0          0          0   \n",
       "154148          0          0          0          0          0          0   \n",
       "\n",
       "        ZIP_92962  \n",
       "1               0  \n",
       "2               0  \n",
       "3               0  \n",
       "10              0  \n",
       "14              0  \n",
       "...           ...  \n",
       "154134          0  \n",
       "154135          0  \n",
       "154136          0  \n",
       "154146          0  \n",
       "154148          0  \n",
       "\n",
       "[10027 rows x 725 columns]"
      ]
     },
     "execution_count": 12,
     "metadata": {},
     "output_type": "execute_result"
    }
   ],
   "source": [
    "# YOUR CODE HERE\n",
    "condo_list = []\n",
    "\n",
    "for index, p in enumerate(df_all['PROPTYPE']):\n",
    "    if p == 'CC':\n",
    "        df = pd.Series(df_all.iloc[index])\n",
    "        condo_list.append(df)\n",
    "    \n",
    "condos = pd.DataFrame(data=condo_list, columns=list(df_all.columns))\n",
    "condos\n",
    "# collect all indices that contain \"CC\" value\n"
   ]
  },
  {
   "cell_type": "markdown",
   "metadata": {},
   "source": [
    "Let us sort all condo values by 'LISTDATE' and check the final shape of the data:"
   ]
  },
  {
   "cell_type": "code",
   "execution_count": 13,
   "metadata": {},
   "outputs": [
    {
     "data": {
      "text/html": [
       "<div>\n",
       "<style scoped>\n",
       "    .dataframe tbody tr th:only-of-type {\n",
       "        vertical-align: middle;\n",
       "    }\n",
       "\n",
       "    .dataframe tbody tr th {\n",
       "        vertical-align: top;\n",
       "    }\n",
       "\n",
       "    .dataframe thead th {\n",
       "        text-align: right;\n",
       "    }\n",
       "</style>\n",
       "<table border=\"1\" class=\"dataframe\">\n",
       "  <thead>\n",
       "    <tr style=\"text-align: right;\">\n",
       "      <th></th>\n",
       "      <th>DisplayX</th>\n",
       "      <th>DisplayY</th>\n",
       "      <th>AGE</th>\n",
       "      <th>BATHS</th>\n",
       "      <th>BEDS</th>\n",
       "      <th>GARAGE</th>\n",
       "      <th>LISTDATE</th>\n",
       "      <th>LISTPRICE</th>\n",
       "      <th>LOTSIZE</th>\n",
       "      <th>MLSNUM</th>\n",
       "      <th>...</th>\n",
       "      <th>ZIP_20184</th>\n",
       "      <th>ZIP_20302</th>\n",
       "      <th>ZIP_20382</th>\n",
       "      <th>ZIP_20452</th>\n",
       "      <th>ZIP_20743</th>\n",
       "      <th>ZIP_20771</th>\n",
       "      <th>ZIP_20779</th>\n",
       "      <th>ZIP_92148</th>\n",
       "      <th>ZIP_92664</th>\n",
       "      <th>ZIP_92962</th>\n",
       "    </tr>\n",
       "  </thead>\n",
       "  <tbody>\n",
       "    <tr>\n",
       "      <th>122119</th>\n",
       "      <td>-70.935221</td>\n",
       "      <td>42.497680</td>\n",
       "      <td>31.0</td>\n",
       "      <td>2.5</td>\n",
       "      <td>3</td>\n",
       "      <td>1.0</td>\n",
       "      <td>2012-05-06</td>\n",
       "      <td>295000.0</td>\n",
       "      <td>938718.0</td>\n",
       "      <td>71378749.0</td>\n",
       "      <td>...</td>\n",
       "      <td>0</td>\n",
       "      <td>0</td>\n",
       "      <td>0</td>\n",
       "      <td>0</td>\n",
       "      <td>0</td>\n",
       "      <td>0</td>\n",
       "      <td>0</td>\n",
       "      <td>0</td>\n",
       "      <td>0</td>\n",
       "      <td>0</td>\n",
       "    </tr>\n",
       "    <tr>\n",
       "      <th>23494</th>\n",
       "      <td>-71.435071</td>\n",
       "      <td>42.652326</td>\n",
       "      <td>2.0</td>\n",
       "      <td>2.5</td>\n",
       "      <td>2</td>\n",
       "      <td>2.0</td>\n",
       "      <td>2013-02-23</td>\n",
       "      <td>612799.0</td>\n",
       "      <td>4597.0</td>\n",
       "      <td>72109900.0</td>\n",
       "      <td>...</td>\n",
       "      <td>0</td>\n",
       "      <td>0</td>\n",
       "      <td>0</td>\n",
       "      <td>0</td>\n",
       "      <td>0</td>\n",
       "      <td>0</td>\n",
       "      <td>0</td>\n",
       "      <td>0</td>\n",
       "      <td>0</td>\n",
       "      <td>0</td>\n",
       "    </tr>\n",
       "    <tr>\n",
       "      <th>1</th>\n",
       "      <td>-71.893472</td>\n",
       "      <td>42.199845</td>\n",
       "      <td>3.0</td>\n",
       "      <td>2.0</td>\n",
       "      <td>2</td>\n",
       "      <td>2.0</td>\n",
       "      <td>2013-03-30</td>\n",
       "      <td>279900.0</td>\n",
       "      <td>1306800.0</td>\n",
       "      <td>71500500.0</td>\n",
       "      <td>...</td>\n",
       "      <td>0</td>\n",
       "      <td>0</td>\n",
       "      <td>0</td>\n",
       "      <td>0</td>\n",
       "      <td>0</td>\n",
       "      <td>0</td>\n",
       "      <td>0</td>\n",
       "      <td>0</td>\n",
       "      <td>0</td>\n",
       "      <td>0</td>\n",
       "    </tr>\n",
       "    <tr>\n",
       "      <th>113725</th>\n",
       "      <td>-71.316857</td>\n",
       "      <td>42.362081</td>\n",
       "      <td>3.0</td>\n",
       "      <td>3.5</td>\n",
       "      <td>3</td>\n",
       "      <td>2.0</td>\n",
       "      <td>2013-04-28</td>\n",
       "      <td>2795000.0</td>\n",
       "      <td>0.0</td>\n",
       "      <td>71515996.0</td>\n",
       "      <td>...</td>\n",
       "      <td>0</td>\n",
       "      <td>0</td>\n",
       "      <td>0</td>\n",
       "      <td>0</td>\n",
       "      <td>0</td>\n",
       "      <td>0</td>\n",
       "      <td>0</td>\n",
       "      <td>0</td>\n",
       "      <td>0</td>\n",
       "      <td>0</td>\n",
       "    </tr>\n",
       "    <tr>\n",
       "      <th>13698</th>\n",
       "      <td>-70.934101</td>\n",
       "      <td>41.543220</td>\n",
       "      <td>118.0</td>\n",
       "      <td>2.5</td>\n",
       "      <td>2</td>\n",
       "      <td>0.0</td>\n",
       "      <td>2013-06-21</td>\n",
       "      <td>379999.0</td>\n",
       "      <td>0.0</td>\n",
       "      <td>71545648.0</td>\n",
       "      <td>...</td>\n",
       "      <td>0</td>\n",
       "      <td>0</td>\n",
       "      <td>0</td>\n",
       "      <td>0</td>\n",
       "      <td>0</td>\n",
       "      <td>0</td>\n",
       "      <td>0</td>\n",
       "      <td>0</td>\n",
       "      <td>0</td>\n",
       "      <td>0</td>\n",
       "    </tr>\n",
       "  </tbody>\n",
       "</table>\n",
       "<p>5 rows × 725 columns</p>\n",
       "</div>"
      ],
      "text/plain": [
       "         DisplayX   DisplayY    AGE  BATHS  BEDS  GARAGE   LISTDATE  \\\n",
       "122119 -70.935221  42.497680   31.0    2.5     3     1.0 2012-05-06   \n",
       "23494  -71.435071  42.652326    2.0    2.5     2     2.0 2013-02-23   \n",
       "1      -71.893472  42.199845    3.0    2.0     2     2.0 2013-03-30   \n",
       "113725 -71.316857  42.362081    3.0    3.5     3     2.0 2013-04-28   \n",
       "13698  -70.934101  41.543220  118.0    2.5     2     0.0 2013-06-21   \n",
       "\n",
       "        LISTPRICE    LOTSIZE      MLSNUM  ... ZIP_20184 ZIP_20302 ZIP_20382  \\\n",
       "122119   295000.0   938718.0  71378749.0  ...         0         0         0   \n",
       "23494    612799.0     4597.0  72109900.0  ...         0         0         0   \n",
       "1        279900.0  1306800.0  71500500.0  ...         0         0         0   \n",
       "113725  2795000.0        0.0  71515996.0  ...         0         0         0   \n",
       "13698    379999.0        0.0  71545648.0  ...         0         0         0   \n",
       "\n",
       "        ZIP_20452  ZIP_20743  ZIP_20771  ZIP_20779  ZIP_92148  ZIP_92664  \\\n",
       "122119          0          0          0          0          0          0   \n",
       "23494           0          0          0          0          0          0   \n",
       "1               0          0          0          0          0          0   \n",
       "113725          0          0          0          0          0          0   \n",
       "13698           0          0          0          0          0          0   \n",
       "\n",
       "        ZIP_92962  \n",
       "122119          0  \n",
       "23494           0  \n",
       "1               0  \n",
       "113725          0  \n",
       "13698           0  \n",
       "\n",
       "[5 rows x 725 columns]"
      ]
     },
     "execution_count": 13,
     "metadata": {},
     "output_type": "execute_result"
    }
   ],
   "source": [
    "# Sort all values by 'LISTDATE'\n",
    "condos = condos.sort_values(by='LISTDATE')\n",
    "condos.head()"
   ]
  },
  {
   "cell_type": "code",
   "execution_count": 14,
   "metadata": {},
   "outputs": [
    {
     "data": {
      "text/plain": [
       "(10027, 725)"
      ]
     },
     "execution_count": 14,
     "metadata": {},
     "output_type": "execute_result"
    }
   ],
   "source": [
    "# Condos shape - you shoud see (10027, 725)\n",
    "condos.shape"
   ]
  },
  {
   "cell_type": "markdown",
   "metadata": {},
   "source": [
    "### Split data into \"future_data\" and \"training_data\""
   ]
  },
  {
   "cell_type": "markdown",
   "metadata": {},
   "source": [
    "So far we have worked on cleaning the data. Now, we want to split it into two datasets: \"training_data\" and \"future_data\". The first dataset (\"training_data\") as its name implies will serve for training and second dataset  (\"future_data\") will act like a future, \"unseen\" data. The final (best) model will be used to predict prices on \"future_data\" dataset."
   ]
  },
  {
   "cell_type": "code",
   "execution_count": 15,
   "metadata": {},
   "outputs": [],
   "source": [
    "# Create \"future_data\" dataset\n",
    "# Future data does not have SOLDPRICE and thus, the feature should be excluded\n",
    "# NOTE: Future data will have 60 listings - see how we slice the data \n",
    "# Export data as \"midterm_future_data.csv\", storing the dataset in your \"data\" folder\n",
    "\n",
    "future_data = condos[9967:]\n",
    "future_data_features = list(set(future_data.columns) - set(['SOLDPRICE'])) \n",
    "future_data = future_data[future_data_features]\n",
    "future_data.to_csv('static/data/midterm_future_data.csv', index=None)"
   ]
  },
  {
   "cell_type": "code",
   "execution_count": 16,
   "metadata": {},
   "outputs": [
    {
     "data": {
      "text/plain": [
       "(60, 724)"
      ]
     },
     "execution_count": 16,
     "metadata": {},
     "output_type": "execute_result"
    }
   ],
   "source": [
    "# Check future_data shape - you shoud see (60, 724)\n",
    "future_data.shape"
   ]
  },
  {
   "cell_type": "markdown",
   "metadata": {
    "collapsed": true
   },
   "source": [
    "YOUR TURN <br><br>\n",
    "**Question 4 (1 pt):** <br> *Create \"training_data.csv\" dataset and store it into your \"data\" folder.* <br><br>Training data should contain all data except the last 60 obsevrations we have periously exported as \"midterm_future_data.csv\" data. "
   ]
  },
  {
   "cell_type": "code",
   "execution_count": 17,
   "metadata": {},
   "outputs": [],
   "source": [
    "#df.to_csv(static\\data\\training_data.csv)\n",
    "training_data = condos[0:9967]\n",
    "training_data_features = list(set(training_data.columns))\n",
    "training_data = training_data[training_data_features]\n",
    "training_data.to_csv('static/data/midterm_training_data.csv', index=None)"
   ]
  },
  {
   "cell_type": "code",
   "execution_count": 18,
   "metadata": {},
   "outputs": [
    {
     "data": {
      "text/plain": [
       "(9967, 725)"
      ]
     },
     "execution_count": 18,
     "metadata": {},
     "output_type": "execute_result"
    }
   ],
   "source": [
    "# Check the shape of your data - you shoud see (9967, 725)\n",
    "training_data.shape"
   ]
  },
  {
   "cell_type": "markdown",
   "metadata": {},
   "source": [
    "Before we move on, make sure you have \"midterm_future_data.csv\" and \"midterm_training_data.csv\" datasets stored into your \"data\" folder (they will be together with you \"sold_geocoded.csv\" dataset):\n",
    "\n",
    "<img src=\"static/img/datasets.png\" align=\"left\">"
   ]
  },
  {
   "cell_type": "markdown",
   "metadata": {},
   "source": [
    "## Data Modeling"
   ]
  },
  {
   "cell_type": "markdown",
   "metadata": {},
   "source": [
    "In this section we are going to train, test, and choose the best performing model. The steps are the following:\n",
    "    1. Load \"midterm_training_data.csv\" \n",
    "    2. Choose an appropriate feature set\n",
    "    3. Train/Test data by using 2 models:\n",
    "        - Random Forest\n",
    "        - Gradient Boosting\n",
    "    4. Choose better model and export predictions"
   ]
  },
  {
   "cell_type": "markdown",
   "metadata": {},
   "source": [
    "#### Load \"midterm_training_data.csv\" dataset"
   ]
  },
  {
   "cell_type": "code",
   "execution_count": 19,
   "metadata": {},
   "outputs": [
    {
     "data": {
      "text/html": [
       "<div>\n",
       "<style scoped>\n",
       "    .dataframe tbody tr th:only-of-type {\n",
       "        vertical-align: middle;\n",
       "    }\n",
       "\n",
       "    .dataframe tbody tr th {\n",
       "        vertical-align: top;\n",
       "    }\n",
       "\n",
       "    .dataframe thead th {\n",
       "        text-align: right;\n",
       "    }\n",
       "</style>\n",
       "<table border=\"1\" class=\"dataframe\">\n",
       "  <thead>\n",
       "    <tr style=\"text-align: right;\">\n",
       "      <th></th>\n",
       "      <th>ZIP_1029</th>\n",
       "      <th>ZIP_2776</th>\n",
       "      <th>ZIP_2122</th>\n",
       "      <th>ZIP_1929</th>\n",
       "      <th>ZIP_1527</th>\n",
       "      <th>ZIP_1108</th>\n",
       "      <th>ZIP_1719</th>\n",
       "      <th>ZIP_1826</th>\n",
       "      <th>ZIP_2144</th>\n",
       "      <th>ZIP_1760</th>\n",
       "      <th>...</th>\n",
       "      <th>ZIP_1289</th>\n",
       "      <th>ZIP_1262</th>\n",
       "      <th>ZIP_2462</th>\n",
       "      <th>ZIP_2648</th>\n",
       "      <th>ZIP_1098</th>\n",
       "      <th>ZIP_1072</th>\n",
       "      <th>ZIP_1772</th>\n",
       "      <th>ZIP_1522</th>\n",
       "      <th>ZIP_2764</th>\n",
       "      <th>ZIP_2126</th>\n",
       "    </tr>\n",
       "  </thead>\n",
       "  <tbody>\n",
       "    <tr>\n",
       "      <th>0</th>\n",
       "      <td>0</td>\n",
       "      <td>0</td>\n",
       "      <td>0</td>\n",
       "      <td>0</td>\n",
       "      <td>0</td>\n",
       "      <td>0</td>\n",
       "      <td>0</td>\n",
       "      <td>0</td>\n",
       "      <td>0</td>\n",
       "      <td>0</td>\n",
       "      <td>...</td>\n",
       "      <td>0</td>\n",
       "      <td>0</td>\n",
       "      <td>0</td>\n",
       "      <td>0</td>\n",
       "      <td>0</td>\n",
       "      <td>0</td>\n",
       "      <td>0</td>\n",
       "      <td>0</td>\n",
       "      <td>0</td>\n",
       "      <td>0</td>\n",
       "    </tr>\n",
       "    <tr>\n",
       "      <th>1</th>\n",
       "      <td>0</td>\n",
       "      <td>0</td>\n",
       "      <td>0</td>\n",
       "      <td>0</td>\n",
       "      <td>0</td>\n",
       "      <td>0</td>\n",
       "      <td>0</td>\n",
       "      <td>0</td>\n",
       "      <td>0</td>\n",
       "      <td>0</td>\n",
       "      <td>...</td>\n",
       "      <td>0</td>\n",
       "      <td>0</td>\n",
       "      <td>0</td>\n",
       "      <td>0</td>\n",
       "      <td>0</td>\n",
       "      <td>0</td>\n",
       "      <td>0</td>\n",
       "      <td>0</td>\n",
       "      <td>0</td>\n",
       "      <td>0</td>\n",
       "    </tr>\n",
       "    <tr>\n",
       "      <th>2</th>\n",
       "      <td>0</td>\n",
       "      <td>0</td>\n",
       "      <td>0</td>\n",
       "      <td>0</td>\n",
       "      <td>0</td>\n",
       "      <td>0</td>\n",
       "      <td>0</td>\n",
       "      <td>0</td>\n",
       "      <td>0</td>\n",
       "      <td>0</td>\n",
       "      <td>...</td>\n",
       "      <td>0</td>\n",
       "      <td>0</td>\n",
       "      <td>0</td>\n",
       "      <td>0</td>\n",
       "      <td>0</td>\n",
       "      <td>0</td>\n",
       "      <td>0</td>\n",
       "      <td>0</td>\n",
       "      <td>0</td>\n",
       "      <td>0</td>\n",
       "    </tr>\n",
       "    <tr>\n",
       "      <th>3</th>\n",
       "      <td>0</td>\n",
       "      <td>0</td>\n",
       "      <td>0</td>\n",
       "      <td>0</td>\n",
       "      <td>0</td>\n",
       "      <td>0</td>\n",
       "      <td>0</td>\n",
       "      <td>0</td>\n",
       "      <td>0</td>\n",
       "      <td>0</td>\n",
       "      <td>...</td>\n",
       "      <td>0</td>\n",
       "      <td>0</td>\n",
       "      <td>0</td>\n",
       "      <td>0</td>\n",
       "      <td>0</td>\n",
       "      <td>0</td>\n",
       "      <td>0</td>\n",
       "      <td>0</td>\n",
       "      <td>0</td>\n",
       "      <td>0</td>\n",
       "    </tr>\n",
       "    <tr>\n",
       "      <th>4</th>\n",
       "      <td>0</td>\n",
       "      <td>0</td>\n",
       "      <td>0</td>\n",
       "      <td>0</td>\n",
       "      <td>0</td>\n",
       "      <td>0</td>\n",
       "      <td>0</td>\n",
       "      <td>0</td>\n",
       "      <td>0</td>\n",
       "      <td>0</td>\n",
       "      <td>...</td>\n",
       "      <td>0</td>\n",
       "      <td>0</td>\n",
       "      <td>0</td>\n",
       "      <td>0</td>\n",
       "      <td>0</td>\n",
       "      <td>0</td>\n",
       "      <td>0</td>\n",
       "      <td>0</td>\n",
       "      <td>0</td>\n",
       "      <td>0</td>\n",
       "    </tr>\n",
       "  </tbody>\n",
       "</table>\n",
       "<p>5 rows × 725 columns</p>\n",
       "</div>"
      ],
      "text/plain": [
       "   ZIP_1029  ZIP_2776  ZIP_2122  ZIP_1929  ZIP_1527  ZIP_1108  ZIP_1719  \\\n",
       "0         0         0         0         0         0         0         0   \n",
       "1         0         0         0         0         0         0         0   \n",
       "2         0         0         0         0         0         0         0   \n",
       "3         0         0         0         0         0         0         0   \n",
       "4         0         0         0         0         0         0         0   \n",
       "\n",
       "   ZIP_1826  ZIP_2144  ZIP_1760  ...  ZIP_1289  ZIP_1262  ZIP_2462  ZIP_2648  \\\n",
       "0         0         0         0  ...         0         0         0         0   \n",
       "1         0         0         0  ...         0         0         0         0   \n",
       "2         0         0         0  ...         0         0         0         0   \n",
       "3         0         0         0  ...         0         0         0         0   \n",
       "4         0         0         0  ...         0         0         0         0   \n",
       "\n",
       "   ZIP_1098  ZIP_1072  ZIP_1772  ZIP_1522  ZIP_2764  ZIP_2126  \n",
       "0         0         0         0         0         0         0  \n",
       "1         0         0         0         0         0         0  \n",
       "2         0         0         0         0         0         0  \n",
       "3         0         0         0         0         0         0  \n",
       "4         0         0         0         0         0         0  \n",
       "\n",
       "[5 rows x 725 columns]"
      ]
     },
     "execution_count": 19,
     "metadata": {},
     "output_type": "execute_result"
    }
   ],
   "source": [
    "# Load data\n",
    "train = pd.read_csv('static/data/midterm_training_data.csv')\n",
    "train.head()"
   ]
  },
  {
   "cell_type": "markdown",
   "metadata": {},
   "source": [
    "#### Select features"
   ]
  },
  {
   "cell_type": "markdown",
   "metadata": {},
   "source": [
    "Exclude 'LISTPRICE','SOLDPRICE', and 'LISTDATE' given that, these are unknown features for any given listing in the future. 'DisplayX'and 'DisplayY' cannot be used as predictors. Usually, they have been used to create distance matrices necessary for estimating the nearest neighbors, which is outside of the scope of this work. 'PHOTOURL' are URL links and 'MLSNUM' is a Database ID. 'REMARKS' are descritpions (we are not doing text analysis here) and thus we are exclusing them as well. We have already extracted condos ('CC') from the 'PROPTYPE' feature."
   ]
  },
  {
   "cell_type": "code",
   "execution_count": 20,
   "metadata": {},
   "outputs": [],
   "source": [
    "# Create train_features valiable and store selected features in it\n",
    "train_features = list(set(train.columns) - set(['PHOTOURL','MLSNUM','SOLDPRICE','REMARKS','LISTDATE',\n",
    "                                          'LISTPRICE','PROPTYPE', 'DisplayX','DisplayY']))"
   ]
  },
  {
   "cell_type": "markdown",
   "metadata": {},
   "source": [
    "#### Train/Test data"
   ]
  },
  {
   "cell_type": "code",
   "execution_count": 21,
   "metadata": {},
   "outputs": [],
   "source": [
    "# Load sklearn library\n",
    "from sklearn.model_selection import train_test_split"
   ]
  },
  {
   "cell_type": "markdown",
   "metadata": {},
   "source": [
    "YOUR TURN <br><br>\n",
    "**Question 5 (1 pt):** <br> *Train - Test - **Split** * <br><br>Use sklearn to split the train dataset into train and test. Specifically, create 'X_train', 'X_test', 'y_train', and 'y_test' datasets. Use 70% for the train and 30% for the test data. Come up with your unique random_state number.\"  "
   ]
  },
  {
   "cell_type": "code",
   "execution_count": 22,
   "metadata": {},
   "outputs": [
    {
     "name": "stdout",
     "output_type": "stream",
     "text": [
      "(9967, 725)\n",
      "(9967, 716)\n"
     ]
    }
   ],
   "source": [
    "#sklearn.model_selection.train_test_split(train)\n",
    "print(train.shape)\n",
    "print(train[train_features].shape)\n",
    "y = train['SOLDPRICE']\n",
    "\n",
    "X_train, X_test, y_train, y_test = train_test_split(train[train_features], y, test_size=0.30, random_state=16)\n"
   ]
  },
  {
   "cell_type": "code",
   "execution_count": 23,
   "metadata": {},
   "outputs": [
    {
     "name": "stdout",
     "output_type": "stream",
     "text": [
      "X_train.shape = (6976, 716), y_train.shape = (6976,)\n",
      "X_test.shape = (2991, 716), y_test.shape = (2991,)\n"
     ]
    }
   ],
   "source": [
    "# Check the shape of the data\n",
    "# You should get: \n",
    "# X_train.shape = (6976, 716), y_train.shape = (6976,)\n",
    "# X_test.shape = (2991, 716), y_test.shape = (2991,)\n",
    "\n",
    "print('X_train.shape = {}, y_train.shape = {}'.format(X_train.shape, y_train.shape))\n",
    "print('X_test.shape = {}, y_test.shape = {}'.format(X_test.shape, y_test.shape))"
   ]
  },
  {
   "cell_type": "markdown",
   "metadata": {},
   "source": [
    "### Training Your Models"
   ]
  },
  {
   "cell_type": "code",
   "execution_count": 24,
   "metadata": {},
   "outputs": [],
   "source": [
    "# Load library\n",
    "from sklearn.ensemble import RandomForestRegressor"
   ]
  },
  {
   "cell_type": "markdown",
   "metadata": {},
   "source": [
    "YOUR TURN <br><br>\n",
    "**Question 6 (1 pt):** <br> *Train data using Random Forest model.*"
   ]
  },
  {
   "cell_type": "code",
   "execution_count": 25,
   "metadata": {},
   "outputs": [],
   "source": [
    "rf = RandomForestRegressor(n_estimators = 5000, random_state = 42)\n",
    "# Train the model on training data\n",
    "rf.fit(X_train, y_train);\n",
    "\n"
   ]
  },
  {
   "cell_type": "code",
   "execution_count": 26,
   "metadata": {},
   "outputs": [],
   "source": [
    "y_pred = rf.predict(X_test)"
   ]
  },
  {
   "cell_type": "code",
   "execution_count": 27,
   "metadata": {},
   "outputs": [
    {
     "name": "stdout",
     "output_type": "stream",
     "text": [
      "Mean Absolute Error: 7810.015059969931\n",
      "Mean Squared Error: 1625685299.507488\n",
      "Root Mean Squared Error: 40319.78793976337\n"
     ]
    }
   ],
   "source": [
    "from sklearn import metrics\n",
    "\n",
    "print('Mean Absolute Error:', metrics.mean_absolute_error(y_test, y_pred))\n",
    "print('Mean Squared Error:', metrics.mean_squared_error(y_test, y_pred))\n",
    "print('Root Mean Squared Error:', np.sqrt(metrics.mean_squared_error(y_test, y_pred)))"
   ]
  },
  {
   "cell_type": "code",
   "execution_count": 28,
   "metadata": {},
   "outputs": [
    {
     "name": "stdout",
     "output_type": "stream",
     "text": [
      "        AGE  BEDS  LOTSIZE    PPSF  LISTMONTH  BATHS  GARAGE  SQFT\n",
      "8031   28.0     2      0.0  240.96          5    1.5     0.0   913\n",
      "445   143.0     2   9583.0  250.00          9    2.0     1.0  1431\n",
      "1407  145.0     1    580.0  870.69          2    1.0     0.0   580\n",
      "6864  113.0     2   3484.0  525.00          3    1.0     0.0   900\n",
      "7643   32.0     2  16789.0  273.66          5    1.5     0.0   877\n",
      "6983   13.0     3      0.0  459.65          4    5.5     2.0  3916\n",
      "8007   18.0     3   1849.0  719.31          5    2.5     2.0  1849\n",
      "9029   29.0     1    801.0  982.52          7    1.0     1.0   801\n",
      "9047   34.0     2      0.0  371.31          8    2.0     0.0   983\n",
      "9178   51.0     1      0.0  235.78          8    1.0     0.0   763\n",
      "[ 222334.9264  357437.4184  504657.308   478672.5202  239812.3478\n",
      " 1713090.7072 1353237.81    787939.6628  365818.6406  176993.9042]\n"
     ]
    }
   ],
   "source": [
    "y_pred[:10]\n",
    "\n",
    "c = [col for col in X_test.columns if not 'ZIP' in col]\n",
    "\n",
    "print(X_test[:10][c])\n",
    "print (y_pred[:10])\n"
   ]
  },
  {
   "cell_type": "code",
   "execution_count": 29,
   "metadata": {},
   "outputs": [],
   "source": [
    "# Load library\n",
    "from sklearn.ensemble import GradientBoostingRegressor"
   ]
  },
  {
   "cell_type": "markdown",
   "metadata": {},
   "source": [
    "YOUR TURN <br><br>\n",
    "**Question 7 (1 pt):** <br> *Train data using Gradient Boosting model.*"
   ]
  },
  {
   "cell_type": "code",
   "execution_count": 30,
   "metadata": {},
   "outputs": [
    {
     "name": "stdout",
     "output_type": "stream",
     "text": [
      "Mean Absolute Error: 19164.834141239433\n",
      "Mean Squared Error: 1473242420.8500504\n",
      "Root Mean Squared Error: 38382.84018738127\n"
     ]
    }
   ],
   "source": [
    "# gradient boosting ensemble for making predictions for regression\n",
    "from sklearn.datasets import make_regression\n",
    "from sklearn.ensemble import GradientBoostingRegressor\n",
    "\n",
    "# define the model\n",
    "model = GradientBoostingRegressor()\n",
    "# fit the model on the whole dataset\n",
    "model.fit(X_train, y_train)\n",
    "# make a single prediction\n",
    "y_hat = model.predict(X_test)\n",
    "# summarize prediction\n",
    "\n",
    "\n",
    "print('Mean Absolute Error:', metrics.mean_absolute_error(y_test, y_hat))\n",
    "print('Mean Squared Error:', metrics.mean_squared_error(y_test, y_hat))\n",
    "print('Root Mean Squared Error:', np.sqrt(metrics.mean_squared_error(y_test, y_hat)))"
   ]
  },
  {
   "cell_type": "markdown",
   "metadata": {},
   "source": [
    "### Predict on Future Data"
   ]
  },
  {
   "cell_type": "code",
   "execution_count": 31,
   "metadata": {},
   "outputs": [
    {
     "data": {
      "text/html": [
       "<div>\n",
       "<style scoped>\n",
       "    .dataframe tbody tr th:only-of-type {\n",
       "        vertical-align: middle;\n",
       "    }\n",
       "\n",
       "    .dataframe tbody tr th {\n",
       "        vertical-align: top;\n",
       "    }\n",
       "\n",
       "    .dataframe thead th {\n",
       "        text-align: right;\n",
       "    }\n",
       "</style>\n",
       "<table border=\"1\" class=\"dataframe\">\n",
       "  <thead>\n",
       "    <tr style=\"text-align: right;\">\n",
       "      <th></th>\n",
       "      <th>ZIP_1029</th>\n",
       "      <th>ZIP_2776</th>\n",
       "      <th>ZIP_2122</th>\n",
       "      <th>ZIP_1929</th>\n",
       "      <th>ZIP_1527</th>\n",
       "      <th>ZIP_1108</th>\n",
       "      <th>ZIP_1719</th>\n",
       "      <th>ZIP_1826</th>\n",
       "      <th>ZIP_2144</th>\n",
       "      <th>ZIP_1760</th>\n",
       "      <th>...</th>\n",
       "      <th>ZIP_1289</th>\n",
       "      <th>ZIP_1262</th>\n",
       "      <th>ZIP_2462</th>\n",
       "      <th>ZIP_2648</th>\n",
       "      <th>ZIP_1098</th>\n",
       "      <th>ZIP_1072</th>\n",
       "      <th>ZIP_1772</th>\n",
       "      <th>ZIP_1522</th>\n",
       "      <th>ZIP_2764</th>\n",
       "      <th>ZIP_2126</th>\n",
       "    </tr>\n",
       "  </thead>\n",
       "  <tbody>\n",
       "    <tr>\n",
       "      <th>0</th>\n",
       "      <td>0</td>\n",
       "      <td>0</td>\n",
       "      <td>0</td>\n",
       "      <td>0</td>\n",
       "      <td>0</td>\n",
       "      <td>0</td>\n",
       "      <td>0</td>\n",
       "      <td>0</td>\n",
       "      <td>0</td>\n",
       "      <td>0</td>\n",
       "      <td>...</td>\n",
       "      <td>0</td>\n",
       "      <td>0</td>\n",
       "      <td>0</td>\n",
       "      <td>0</td>\n",
       "      <td>0</td>\n",
       "      <td>0</td>\n",
       "      <td>0</td>\n",
       "      <td>0</td>\n",
       "      <td>0</td>\n",
       "      <td>0</td>\n",
       "    </tr>\n",
       "    <tr>\n",
       "      <th>1</th>\n",
       "      <td>0</td>\n",
       "      <td>0</td>\n",
       "      <td>0</td>\n",
       "      <td>0</td>\n",
       "      <td>0</td>\n",
       "      <td>0</td>\n",
       "      <td>0</td>\n",
       "      <td>0</td>\n",
       "      <td>0</td>\n",
       "      <td>0</td>\n",
       "      <td>...</td>\n",
       "      <td>0</td>\n",
       "      <td>0</td>\n",
       "      <td>0</td>\n",
       "      <td>0</td>\n",
       "      <td>0</td>\n",
       "      <td>0</td>\n",
       "      <td>0</td>\n",
       "      <td>0</td>\n",
       "      <td>0</td>\n",
       "      <td>0</td>\n",
       "    </tr>\n",
       "    <tr>\n",
       "      <th>2</th>\n",
       "      <td>0</td>\n",
       "      <td>0</td>\n",
       "      <td>0</td>\n",
       "      <td>0</td>\n",
       "      <td>0</td>\n",
       "      <td>0</td>\n",
       "      <td>0</td>\n",
       "      <td>0</td>\n",
       "      <td>0</td>\n",
       "      <td>0</td>\n",
       "      <td>...</td>\n",
       "      <td>0</td>\n",
       "      <td>0</td>\n",
       "      <td>0</td>\n",
       "      <td>0</td>\n",
       "      <td>0</td>\n",
       "      <td>0</td>\n",
       "      <td>0</td>\n",
       "      <td>0</td>\n",
       "      <td>0</td>\n",
       "      <td>0</td>\n",
       "    </tr>\n",
       "    <tr>\n",
       "      <th>3</th>\n",
       "      <td>0</td>\n",
       "      <td>0</td>\n",
       "      <td>0</td>\n",
       "      <td>0</td>\n",
       "      <td>0</td>\n",
       "      <td>0</td>\n",
       "      <td>0</td>\n",
       "      <td>0</td>\n",
       "      <td>0</td>\n",
       "      <td>0</td>\n",
       "      <td>...</td>\n",
       "      <td>0</td>\n",
       "      <td>0</td>\n",
       "      <td>0</td>\n",
       "      <td>0</td>\n",
       "      <td>0</td>\n",
       "      <td>0</td>\n",
       "      <td>0</td>\n",
       "      <td>0</td>\n",
       "      <td>0</td>\n",
       "      <td>0</td>\n",
       "    </tr>\n",
       "    <tr>\n",
       "      <th>4</th>\n",
       "      <td>0</td>\n",
       "      <td>0</td>\n",
       "      <td>0</td>\n",
       "      <td>0</td>\n",
       "      <td>0</td>\n",
       "      <td>0</td>\n",
       "      <td>0</td>\n",
       "      <td>0</td>\n",
       "      <td>0</td>\n",
       "      <td>0</td>\n",
       "      <td>...</td>\n",
       "      <td>0</td>\n",
       "      <td>0</td>\n",
       "      <td>0</td>\n",
       "      <td>0</td>\n",
       "      <td>0</td>\n",
       "      <td>0</td>\n",
       "      <td>0</td>\n",
       "      <td>0</td>\n",
       "      <td>0</td>\n",
       "      <td>0</td>\n",
       "    </tr>\n",
       "  </tbody>\n",
       "</table>\n",
       "<p>5 rows × 724 columns</p>\n",
       "</div>"
      ],
      "text/plain": [
       "   ZIP_1029  ZIP_2776  ZIP_2122  ZIP_1929  ZIP_1527  ZIP_1108  ZIP_1719  \\\n",
       "0         0         0         0         0         0         0         0   \n",
       "1         0         0         0         0         0         0         0   \n",
       "2         0         0         0         0         0         0         0   \n",
       "3         0         0         0         0         0         0         0   \n",
       "4         0         0         0         0         0         0         0   \n",
       "\n",
       "   ZIP_1826  ZIP_2144  ZIP_1760  ...  ZIP_1289  ZIP_1262  ZIP_2462  ZIP_2648  \\\n",
       "0         0         0         0  ...         0         0         0         0   \n",
       "1         0         0         0  ...         0         0         0         0   \n",
       "2         0         0         0  ...         0         0         0         0   \n",
       "3         0         0         0  ...         0         0         0         0   \n",
       "4         0         0         0  ...         0         0         0         0   \n",
       "\n",
       "   ZIP_1098  ZIP_1072  ZIP_1772  ZIP_1522  ZIP_2764  ZIP_2126  \n",
       "0         0         0         0         0         0         0  \n",
       "1         0         0         0         0         0         0  \n",
       "2         0         0         0         0         0         0  \n",
       "3         0         0         0         0         0         0  \n",
       "4         0         0         0         0         0         0  \n",
       "\n",
       "[5 rows x 724 columns]"
      ]
     },
     "execution_count": 31,
     "metadata": {},
     "output_type": "execute_result"
    }
   ],
   "source": [
    "# Import \"future_data\" dataset\n",
    "future_data = pd.read_csv(\"static/data/midterm_future_data.csv\")\n",
    "future_data.head()  "
   ]
  },
  {
   "cell_type": "code",
   "execution_count": 32,
   "metadata": {},
   "outputs": [
    {
     "data": {
      "text/plain": [
       "Index(['ZIP_1029', 'ZIP_2776', 'ZIP_2122', 'ZIP_1929', 'ZIP_1527', 'ZIP_1108',\n",
       "       'ZIP_1719', 'ZIP_1826', 'ZIP_2144', 'ZIP_1760',\n",
       "       ...\n",
       "       'ZIP_1289', 'ZIP_1262', 'ZIP_2462', 'ZIP_2648', 'ZIP_1098', 'ZIP_1072',\n",
       "       'ZIP_1772', 'ZIP_1522', 'ZIP_2764', 'ZIP_2126'],\n",
       "      dtype='object', length=724)"
      ]
     },
     "execution_count": 32,
     "metadata": {},
     "output_type": "execute_result"
    }
   ],
   "source": [
    "# Print future_data columns \n",
    "# You can use future_data.columns.values \n",
    "\n",
    "future_data.columns"
   ]
  },
  {
   "cell_type": "markdown",
   "metadata": {},
   "source": [
    "We want to extract only valid predictors from \"future_data\" dataset. Note: we don't want to use features such as 'PHOTOURL','MLSNUM' or 'LISTPRICE' as our predictors."
   ]
  },
  {
   "cell_type": "markdown",
   "metadata": {},
   "source": [
    "YOUR TURN <br><br>\n",
    "**Question 8 (1 pt):** <br> Create \"predicion_features\" variable to store the approprate set of features. <br>Note: The number of features needs to coresspond to the features set used for training. "
   ]
  },
  {
   "cell_type": "code",
   "execution_count": 33,
   "metadata": {},
   "outputs": [],
   "source": [
    "# YOUR CODE HERE\n",
    "prediction_features = list(set(future_data.columns) - set(['PHOTOURL', 'MLSNUM', 'LISTPRICE', 'LISTDATE','REMARKS','DisplayX','DisplayY','PROPTYPE']))\n",
    "\n"
   ]
  },
  {
   "cell_type": "code",
   "execution_count": 34,
   "metadata": {},
   "outputs": [],
   "source": [
    "# Create new dataset called \"predictions_df\"\n",
    "# The dataset will contain only \"predicion_features\" set\n",
    "\n",
    "predictions_df = future_data[prediction_features]"
   ]
  },
  {
   "cell_type": "markdown",
   "metadata": {},
   "source": [
    "YOUR TURN <br><br>\n",
    "**Question 9 (1 pt):** <br> Predict prices using your best model. Store predictions in the variable called \"predictions\". "
   ]
  },
  {
   "cell_type": "code",
   "execution_count": 35,
   "metadata": {},
   "outputs": [
    {
     "name": "stdout",
     "output_type": "stream",
     "text": [
      "AGE 31.0\n",
      "BEDS 3\n",
      "LOTSIZE 938718.0\n",
      "PPSF 143.16\n",
      "LISTMONTH 5\n",
      "BATHS 2.5\n",
      "GARAGE 1.0\n",
      "SQFT 2389\n",
      "-----\n",
      "AGE 19.0\n",
      "BEDS 1\n",
      "LOTSIZE 418.0\n",
      "PPSF 1244.02\n",
      "LISTMONTH 11\n",
      "BATHS 1.0\n",
      "GARAGE 0.0\n",
      "SQFT 418\n"
     ]
    }
   ],
   "source": [
    "# YOUR CODE HERE\n",
    "for n in X_train.columns:\n",
    "    if \"ZIP\" in n:\n",
    "        continue\n",
    "    else:\n",
    "        print(n,X_train[n][0])\n",
    "print(\"-----\")\n",
    "for n in predictions_df.columns:\n",
    "    if \"ZIP\" in n:\n",
    "        continue\n",
    "    else:\n",
    "        print(n,predictions_df[n][0])\n",
    "        \n",
    "predictions = rf.predict(predictions_df)\n"
   ]
  },
  {
   "cell_type": "code",
   "execution_count": 36,
   "metadata": {},
   "outputs": [
    {
     "data": {
      "text/plain": [
       "array([ 527242.68,  696756.15,  394522.81, 1630461.24,  324522.82,\n",
       "        632880.08,  560896.66,  476164.26,  976134.69,  310793.85,\n",
       "        284751.12,  364768.78, 2150298.9 ,  529493.22,  543321.96,\n",
       "        149124.6 ,  369408.22,  531858.57,  230621.76,  172797.4 ,\n",
       "        432713.72,  550262.49,  177314.83,  400487.81,  273108.55,\n",
       "        514852.1 ,  504890.23,  116590.74,  685290.64,  492180.71,\n",
       "        140784.14,  549067.82,  582910.54,  239247.23,  451636.34,\n",
       "        305403.54,   77101.95,  499128.54,  300010.18,  195931.03,\n",
       "        942585.41,  878977.99,  701919.1 ,  480363.98,  226644.66,\n",
       "        453313.86,  288017.23,  479004.7 ,  391925.12,  680327.24,\n",
       "        232082.98,  417055.68,  719706.99,  168145.99,  405422.6 ,\n",
       "        375582.14,  315378.42,  206150.65,  532724.48,  172027.23])"
      ]
     },
     "execution_count": 36,
     "metadata": {},
     "output_type": "execute_result"
    }
   ],
   "source": [
    "# Round prediction values \n",
    "predictions = predictions.round(2)\n",
    "predictions"
   ]
  },
  {
   "cell_type": "code",
   "execution_count": 37,
   "metadata": {},
   "outputs": [],
   "source": [
    "# Add new column 'predicted_price' to the 'future_data' dataset\n",
    "# Pass newly predicted values\n",
    "\n",
    "future_data['predicted_price'] = predictions"
   ]
  },
  {
   "cell_type": "code",
   "execution_count": 38,
   "metadata": {},
   "outputs": [],
   "source": [
    "# Choose the final set of columns to be use for you final export\n",
    "\n",
    "final_cols = ['DisplayY','DisplayX','BEDS','SQFT','PHOTOURL','PPSF',\n",
    "            'BATHS','MLSNUM','LISTPRICE', 'REMARKS', 'predicted_price']"
   ]
  },
  {
   "cell_type": "code",
   "execution_count": 39,
   "metadata": {
    "scrolled": true
   },
   "outputs": [],
   "source": [
    "# Create new dataframe for export\n",
    "# NOTE: This dataframe will be exported to csv file and used in Midterm_Part_II\n",
    "\n",
    "for_export_df = future_data[final_cols]"
   ]
  },
  {
   "cell_type": "code",
   "execution_count": 40,
   "metadata": {
    "scrolled": true
   },
   "outputs": [],
   "source": [
    "# Change column names (small caps)\n",
    "for_export_df = for_export_df.rename(columns={'REMARKS':'remarks', 'LISTPRICE':'list_price', 'DisplayY':'display_y', \n",
    "                                        'DisplayX':'display_x', 'BEDS':'beds', 'SQFT':'sqft', 'PHOTOURL':'photo_url', \n",
    "                                        'PPSF':'ppsf', 'BATHS':'baths', 'MLSNUM':'mlsnum'})"
   ]
  },
  {
   "cell_type": "code",
   "execution_count": 41,
   "metadata": {},
   "outputs": [],
   "source": [
    "# Round lon/lat data\n",
    "# Parse MLS number to int \n",
    "# Note: For MLS number, you may want to use string later, in the Midterm_Part_II \n",
    "\n",
    "for_export_df['display_y'] = for_export_df['display_y'].round(5)\n",
    "for_export_df['display_x'] = for_export_df['display_x'].round(5)\n",
    "for_export_df['mlsnum'] = for_export_df['mlsnum'].astype(int)"
   ]
  },
  {
   "cell_type": "code",
   "execution_count": 42,
   "metadata": {},
   "outputs": [
    {
     "data": {
      "text/html": [
       "<div>\n",
       "<style scoped>\n",
       "    .dataframe tbody tr th:only-of-type {\n",
       "        vertical-align: middle;\n",
       "    }\n",
       "\n",
       "    .dataframe tbody tr th {\n",
       "        vertical-align: top;\n",
       "    }\n",
       "\n",
       "    .dataframe thead th {\n",
       "        text-align: right;\n",
       "    }\n",
       "</style>\n",
       "<table border=\"1\" class=\"dataframe\">\n",
       "  <thead>\n",
       "    <tr style=\"text-align: right;\">\n",
       "      <th></th>\n",
       "      <th>display_y</th>\n",
       "      <th>display_x</th>\n",
       "      <th>beds</th>\n",
       "      <th>sqft</th>\n",
       "      <th>photo_url</th>\n",
       "      <th>ppsf</th>\n",
       "      <th>baths</th>\n",
       "      <th>mlsnum</th>\n",
       "      <th>list_price</th>\n",
       "      <th>remarks</th>\n",
       "      <th>predicted_price</th>\n",
       "    </tr>\n",
       "  </thead>\n",
       "  <tbody>\n",
       "    <tr>\n",
       "      <th>0</th>\n",
       "      <td>42.34879</td>\n",
       "      <td>-71.07807</td>\n",
       "      <td>1</td>\n",
       "      <td>418</td>\n",
       "      <td>http://media.mlspin.com/photo.aspx?mls=72250173</td>\n",
       "      <td>1244.02</td>\n",
       "      <td>1.0</td>\n",
       "      <td>72250173</td>\n",
       "      <td>519000.0</td>\n",
       "      <td>Excellent opportunity to own a studio at Trini...</td>\n",
       "      <td>527242.68</td>\n",
       "    </tr>\n",
       "    <tr>\n",
       "      <th>1</th>\n",
       "      <td>42.36682</td>\n",
       "      <td>-71.03763</td>\n",
       "      <td>3</td>\n",
       "      <td>1426</td>\n",
       "      <td>http://media.mlspin.com/photo.aspx?mls=72251181</td>\n",
       "      <td>490.18</td>\n",
       "      <td>2.0</td>\n",
       "      <td>72251181</td>\n",
       "      <td>699000.0</td>\n",
       "      <td>Newly renovated, 3 bedroom +study, 2 bath feat...</td>\n",
       "      <td>696756.15</td>\n",
       "    </tr>\n",
       "    <tr>\n",
       "      <th>2</th>\n",
       "      <td>42.26208</td>\n",
       "      <td>-71.52786</td>\n",
       "      <td>2</td>\n",
       "      <td>2100</td>\n",
       "      <td>http://media.mlspin.com/photo.aspx?mls=72250996</td>\n",
       "      <td>189.05</td>\n",
       "      <td>2.5</td>\n",
       "      <td>72250996</td>\n",
       "      <td>409000.0</td>\n",
       "      <td>Lovely townhome in The Preserve a gated commun...</td>\n",
       "      <td>394522.81</td>\n",
       "    </tr>\n",
       "    <tr>\n",
       "      <th>3</th>\n",
       "      <td>42.35796</td>\n",
       "      <td>-71.05054</td>\n",
       "      <td>1</td>\n",
       "      <td>1230</td>\n",
       "      <td>http://media.mlspin.com/photo.aspx?mls=72254711</td>\n",
       "      <td>1341.46</td>\n",
       "      <td>1.5</td>\n",
       "      <td>72254711</td>\n",
       "      <td>1650000.0</td>\n",
       "      <td>Seldom available opportunity to have the covet...</td>\n",
       "      <td>1630461.24</td>\n",
       "    </tr>\n",
       "    <tr>\n",
       "      <th>4</th>\n",
       "      <td>42.61405</td>\n",
       "      <td>-71.22847</td>\n",
       "      <td>2</td>\n",
       "      <td>1040</td>\n",
       "      <td>http://media.mlspin.com/photo.aspx?mls=72250876</td>\n",
       "      <td>302.88</td>\n",
       "      <td>2.5</td>\n",
       "      <td>72250876</td>\n",
       "      <td>304900.0</td>\n",
       "      <td>Looking for that well priced Townhouse that is...</td>\n",
       "      <td>324522.82</td>\n",
       "    </tr>\n",
       "  </tbody>\n",
       "</table>\n",
       "</div>"
      ],
      "text/plain": [
       "   display_y  display_x  beds  sqft  \\\n",
       "0   42.34879  -71.07807     1   418   \n",
       "1   42.36682  -71.03763     3  1426   \n",
       "2   42.26208  -71.52786     2  2100   \n",
       "3   42.35796  -71.05054     1  1230   \n",
       "4   42.61405  -71.22847     2  1040   \n",
       "\n",
       "                                         photo_url     ppsf  baths    mlsnum  \\\n",
       "0  http://media.mlspin.com/photo.aspx?mls=72250173  1244.02    1.0  72250173   \n",
       "1  http://media.mlspin.com/photo.aspx?mls=72251181   490.18    2.0  72251181   \n",
       "2  http://media.mlspin.com/photo.aspx?mls=72250996   189.05    2.5  72250996   \n",
       "3  http://media.mlspin.com/photo.aspx?mls=72254711  1341.46    1.5  72254711   \n",
       "4  http://media.mlspin.com/photo.aspx?mls=72250876   302.88    2.5  72250876   \n",
       "\n",
       "   list_price                                            remarks  \\\n",
       "0    519000.0  Excellent opportunity to own a studio at Trini...   \n",
       "1    699000.0  Newly renovated, 3 bedroom +study, 2 bath feat...   \n",
       "2    409000.0  Lovely townhome in The Preserve a gated commun...   \n",
       "3   1650000.0  Seldom available opportunity to have the covet...   \n",
       "4    304900.0  Looking for that well priced Townhouse that is...   \n",
       "\n",
       "   predicted_price  \n",
       "0        527242.68  \n",
       "1        696756.15  \n",
       "2        394522.81  \n",
       "3       1630461.24  \n",
       "4        324522.82  "
      ]
     },
     "execution_count": 42,
     "metadata": {},
     "output_type": "execute_result"
    }
   ],
   "source": [
    "# Final check\n",
    "for_export_df.head()"
   ]
  },
  {
   "cell_type": "markdown",
   "metadata": {},
   "source": [
    "Your dataset (from above) should look like this (**'predicted_price' figures may be different due to dfferent splits and that is ok! **):<br>\n",
    "<img src=\"static/img/final_dataset.png\" align=\"center\">"
   ]
  },
  {
   "cell_type": "markdown",
   "metadata": {},
   "source": [
    "YOUR TURN <br><br>\n",
    "**Question 10 (1 pt):** <br> Export \"for_export_df\" dataframe into \"midterm.csv\" file and store it into your \"data\" folder. You will model the \"condos\" database table according to it, so make sure you have completed this step!"
   ]
  },
  {
   "cell_type": "code",
   "execution_count": 44,
   "metadata": {},
   "outputs": [
    {
     "ename": "PermissionError",
     "evalue": "[Errno 13] Permission denied: 'static/data/midterm.csv'",
     "output_type": "error",
     "traceback": [
      "\u001b[1;31m---------------------------------------------------------------------------\u001b[0m",
      "\u001b[1;31mPermissionError\u001b[0m                           Traceback (most recent call last)",
      "\u001b[1;32m<ipython-input-44-9cbfaa74749b>\u001b[0m in \u001b[0;36m<module>\u001b[1;34m\u001b[0m\n\u001b[0;32m      1\u001b[0m \u001b[1;31m# YOUR CODE HERE\u001b[0m\u001b[1;33m\u001b[0m\u001b[1;33m\u001b[0m\u001b[1;33m\u001b[0m\u001b[0m\n\u001b[1;32m----> 2\u001b[1;33m \u001b[0mfor_export_df\u001b[0m\u001b[1;33m.\u001b[0m\u001b[0mto_csv\u001b[0m\u001b[1;33m(\u001b[0m\u001b[1;34m'static/data/midterm.csv'\u001b[0m\u001b[1;33m)\u001b[0m\u001b[1;33m\u001b[0m\u001b[1;33m\u001b[0m\u001b[0m\n\u001b[0m\u001b[0;32m      3\u001b[0m \u001b[1;33m\u001b[0m\u001b[0m\n\u001b[0;32m      4\u001b[0m \u001b[1;33m\u001b[0m\u001b[0m\n\u001b[0;32m      5\u001b[0m \u001b[1;33m\u001b[0m\u001b[0m\n",
      "\u001b[1;32m~\\AppData\\Roaming\\Python\\Python38\\site-packages\\pandas\\core\\generic.py\u001b[0m in \u001b[0;36mto_csv\u001b[1;34m(self, path_or_buf, sep, na_rep, float_format, columns, header, index, index_label, mode, encoding, compression, quoting, quotechar, line_terminator, chunksize, date_format, doublequote, escapechar, decimal, errors)\u001b[0m\n\u001b[0;32m   3165\u001b[0m             \u001b[0mdecimal\u001b[0m\u001b[1;33m=\u001b[0m\u001b[0mdecimal\u001b[0m\u001b[1;33m,\u001b[0m\u001b[1;33m\u001b[0m\u001b[1;33m\u001b[0m\u001b[0m\n\u001b[0;32m   3166\u001b[0m         )\n\u001b[1;32m-> 3167\u001b[1;33m         \u001b[0mformatter\u001b[0m\u001b[1;33m.\u001b[0m\u001b[0msave\u001b[0m\u001b[1;33m(\u001b[0m\u001b[1;33m)\u001b[0m\u001b[1;33m\u001b[0m\u001b[1;33m\u001b[0m\u001b[0m\n\u001b[0m\u001b[0;32m   3168\u001b[0m \u001b[1;33m\u001b[0m\u001b[0m\n\u001b[0;32m   3169\u001b[0m         \u001b[1;32mif\u001b[0m \u001b[0mpath_or_buf\u001b[0m \u001b[1;32mis\u001b[0m \u001b[1;32mNone\u001b[0m\u001b[1;33m:\u001b[0m\u001b[1;33m\u001b[0m\u001b[1;33m\u001b[0m\u001b[0m\n",
      "\u001b[1;32m~\\AppData\\Roaming\\Python\\Python38\\site-packages\\pandas\\io\\formats\\csvs.py\u001b[0m in \u001b[0;36msave\u001b[1;34m(self)\u001b[0m\n\u001b[0;32m    183\u001b[0m             \u001b[0mclose\u001b[0m \u001b[1;33m=\u001b[0m \u001b[1;32mFalse\u001b[0m\u001b[1;33m\u001b[0m\u001b[1;33m\u001b[0m\u001b[0m\n\u001b[0;32m    184\u001b[0m         \u001b[1;32melse\u001b[0m\u001b[1;33m:\u001b[0m\u001b[1;33m\u001b[0m\u001b[1;33m\u001b[0m\u001b[0m\n\u001b[1;32m--> 185\u001b[1;33m             f, handles = get_handle(\n\u001b[0m\u001b[0;32m    186\u001b[0m                 \u001b[0mself\u001b[0m\u001b[1;33m.\u001b[0m\u001b[0mpath_or_buf\u001b[0m\u001b[1;33m,\u001b[0m\u001b[1;33m\u001b[0m\u001b[1;33m\u001b[0m\u001b[0m\n\u001b[0;32m    187\u001b[0m                 \u001b[0mself\u001b[0m\u001b[1;33m.\u001b[0m\u001b[0mmode\u001b[0m\u001b[1;33m,\u001b[0m\u001b[1;33m\u001b[0m\u001b[1;33m\u001b[0m\u001b[0m\n",
      "\u001b[1;32m~\\AppData\\Roaming\\Python\\Python38\\site-packages\\pandas\\io\\common.py\u001b[0m in \u001b[0;36mget_handle\u001b[1;34m(path_or_buf, mode, encoding, compression, memory_map, is_text, errors)\u001b[0m\n\u001b[0;32m    491\u001b[0m         \u001b[1;32mif\u001b[0m \u001b[0mencoding\u001b[0m\u001b[1;33m:\u001b[0m\u001b[1;33m\u001b[0m\u001b[1;33m\u001b[0m\u001b[0m\n\u001b[0;32m    492\u001b[0m             \u001b[1;31m# Encoding\u001b[0m\u001b[1;33m\u001b[0m\u001b[1;33m\u001b[0m\u001b[1;33m\u001b[0m\u001b[0m\n\u001b[1;32m--> 493\u001b[1;33m             \u001b[0mf\u001b[0m \u001b[1;33m=\u001b[0m \u001b[0mopen\u001b[0m\u001b[1;33m(\u001b[0m\u001b[0mpath_or_buf\u001b[0m\u001b[1;33m,\u001b[0m \u001b[0mmode\u001b[0m\u001b[1;33m,\u001b[0m \u001b[0mencoding\u001b[0m\u001b[1;33m=\u001b[0m\u001b[0mencoding\u001b[0m\u001b[1;33m,\u001b[0m \u001b[0merrors\u001b[0m\u001b[1;33m=\u001b[0m\u001b[0merrors\u001b[0m\u001b[1;33m,\u001b[0m \u001b[0mnewline\u001b[0m\u001b[1;33m=\u001b[0m\u001b[1;34m\"\"\u001b[0m\u001b[1;33m)\u001b[0m\u001b[1;33m\u001b[0m\u001b[1;33m\u001b[0m\u001b[0m\n\u001b[0m\u001b[0;32m    494\u001b[0m         \u001b[1;32melif\u001b[0m \u001b[0mis_text\u001b[0m\u001b[1;33m:\u001b[0m\u001b[1;33m\u001b[0m\u001b[1;33m\u001b[0m\u001b[0m\n\u001b[0;32m    495\u001b[0m             \u001b[1;31m# No explicit encoding\u001b[0m\u001b[1;33m\u001b[0m\u001b[1;33m\u001b[0m\u001b[1;33m\u001b[0m\u001b[0m\n",
      "\u001b[1;31mPermissionError\u001b[0m: [Errno 13] Permission denied: 'static/data/midterm.csv'"
     ]
    }
   ],
   "source": [
    "# YOUR CODE HERE\n",
    "for_export_df.to_csv('static/data/midterm.csv')\n",
    "\n",
    "\n",
    "\n"
   ]
  },
  {
   "cell_type": "code",
   "execution_count": 45,
   "metadata": {},
   "outputs": [
    {
     "data": {
      "text/plain": [
       "(60, 11)"
      ]
     },
     "execution_count": 45,
     "metadata": {},
     "output_type": "execute_result"
    }
   ],
   "source": [
    "# Check the dataset shape - you should see (60, 11)\n",
    "for_export_df.shape"
   ]
  },
  {
   "cell_type": "markdown",
   "metadata": {},
   "source": [
    "Your \"data\" folder should look like this (together with \"sold_geocoded.csv\"):\n",
    "\n",
    "<img src=\"static/img/data2.png\" align=\"left\">"
   ]
  },
  {
   "cell_type": "markdown",
   "metadata": {
    "collapsed": true
   },
   "source": [
    "Congratulations! You finished the Part I. :)"
   ]
  },
  {
   "cell_type": "code",
   "execution_count": 46,
   "metadata": {},
   "outputs": [],
   "source": [
    "#Sources: \n",
    "#https://stackabuse.com/gradient-boosting-classifiers-in-python-with-scikit-learn/\n",
    "#https://pandas.pydata.org/pandas-docs/stable/reference/api/pandas.DataFrame.to_csv.html\n",
    "#https://stackoverflow.com/questions/35261055/method-object-is-not-subscriptable-dont-know-whats-wrong\n",
    "#https://realpython.com/python-traceback/\n",
    "#https://stackabuse.com/random-forest-algorithm-with-python-and-scikit-learn/\n",
    "#https://scikit-learn.org/stable/modules/generated/sklearn.ensemble.RandomForestClassifier.html\n",
    "#https://scikit-learn.org/stable/auto_examples/datasets/plot_iris_dataset.html"
   ]
  },
  {
   "cell_type": "code",
   "execution_count": 46,
   "metadata": {},
   "outputs": [],
   "source": [
    "#Sources:\n",
    "#https://datatofish.com/create-database-python-using-sqlite3/"
   ]
  },
  {
   "cell_type": "code",
   "execution_count": null,
   "metadata": {},
   "outputs": [],
   "source": []
  }
 ],
 "metadata": {
  "kernelspec": {
   "display_name": "Python 3",
   "language": "python",
   "name": "python3"
  },
  "language_info": {
   "codemirror_mode": {
    "name": "ipython",
    "version": 3
   },
   "file_extension": ".py",
   "mimetype": "text/x-python",
   "name": "python",
   "nbconvert_exporter": "python",
   "pygments_lexer": "ipython3",
   "version": "3.8.5"
  }
 },
 "nbformat": 4,
 "nbformat_minor": 2
}
